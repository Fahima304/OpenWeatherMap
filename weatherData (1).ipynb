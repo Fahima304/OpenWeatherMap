{
  "cells": [
    {
      "cell_type": "markdown",
      "id": "557ad01e",
      "metadata": {
        "id": "557ad01e"
      },
      "source": [
        "# Code for Fyto \n",
        "## Data from openweathermap and NASA"
      ]
    },
    {
      "cell_type": "markdown",
      "id": "21a4c971",
      "metadata": {
        "id": "21a4c971"
      },
      "source": [
        "__import packages__"
      ]
    },
    {
      "cell_type": "code",
      "execution_count": 1,
      "id": "2de459f2",
      "metadata": {
        "id": "2de459f2"
      },
      "outputs": [],
      "source": [
        "import numpy\n",
        "import pandas\n",
        "import cv2\n",
        "import nltk\n",
        "import matplotlib.pyplot\n",
        "import seaborn"
      ]
    },
    {
      "cell_type": "code",
      "execution_count": 3,
      "id": "2b2bd1c7",
      "metadata": {
        "id": "2b2bd1c7"
      },
      "outputs": [],
      "source": [
        "# pip install plotly \n",
        "import plotly.graph_objects \n",
        "import sklearn "
      ]
    },
    {
      "cell_type": "code",
      "source": [
        "def addWeatherData(data, fromts, tots):\n",
        "  for row in data:\n",
        "    tmp = {\n",
        "      'lat': latitude,\n",
        "      'lon': longtitude,\n",
        "      'start': fromts,\n",
        "      'end': tots,\n",
        "      'temp': row['main']['temp'],\n",
        "      'min_temp': row['main']['temp_min'],\n",
        "      'max_temp': row['main']['temp_max'],\n",
        "      'pressure': row['main']['pressure'],\n",
        "      'humidity': row['main']['humidity'],\n",
        "      'speed': row['wind']['speed'],\n",
        "      'direction': row['wind']['deg'],\n",
        "    }\n",
        "    weatherData.append(tmp)"
      ],
      "metadata": {
        "id": "6IjLE-qgMGm5"
      },
      "id": "6IjLE-qgMGm5",
      "execution_count": 40,
      "outputs": []
    },
    {
      "cell_type": "code",
      "execution_count": 41,
      "id": "c98a946b",
      "metadata": {
        "id": "c98a946b"
      },
      "outputs": [],
      "source": [
        "import requests\n",
        "from datetime import datetime, timedelta\n",
        "\n",
        "weatherData = []\n",
        "startDate = datetime(2021, 9, 11)\n",
        "endDate = datetime(2021, 9, 12)\n",
        "longtitude = -120.136 \n",
        "latitude = 34.553\n",
        "while endDate > startDate:\n",
        "  # print(startDate)\n",
        "  fromTimeStamp = round(datetime.timestamp(startDate))\n",
        "  startDate = startDate + timedelta(hours=1)\n",
        "  toTimeStamp = round(datetime.timestamp(startDate))\n",
        "\n",
        "  url = f'http://history.openweathermap.org/data/2.5/history/city?lat={latitude}&lon={longtitude}&type=hour&start={fromTimeStamp}&end={toTimeStamp}&appid=e37c59fc829f6a7d2e3f34cccb671fcf'\n",
        "  res = requests.get(url)\n",
        "  data = res.json()\n",
        "  addWeatherData(data['list'], fromTimeStamp, toTimeStamp)\n"
      ]
    },
    {
      "cell_type": "code",
      "source": [
        "import csv\n",
        "\n",
        "csvHeaders = ['lat','lon','start','end','temp','min_temp','max_temp','pressure','humidity','speed','direction']\n",
        "\n",
        "with open('sample.csv', 'w') as file:\n",
        "  writer = csv.DictWriter(file, fieldnames = csvHeaders)\n",
        "  writer.writeheader()\n",
        "  writer.writerows(weatherData)\n",
        "\n",
        "print('Data saved to CSV file')"
      ],
      "metadata": {
        "colab": {
          "base_uri": "https://localhost:8080/"
        },
        "id": "GpchXb7SEW1a",
        "outputId": "fe3fd60a-045b-4bcc-b57b-308f8faec104"
      },
      "id": "GpchXb7SEW1a",
      "execution_count": 35,
      "outputs": [
        {
          "output_type": "stream",
          "name": "stdout",
          "text": [
            "Data saved to CSV file\n"
          ]
        }
      ]
    },
    {
      "cell_type": "code",
      "execution_count": null,
      "id": "ddfe4d34",
      "metadata": {
        "id": "ddfe4d34",
        "outputId": "226cc305-763e-48b3-b3af-a63f91bbdad2"
      },
      "outputs": [
        {
          "name": "stdout",
          "output_type": "stream",
          "text": [
            "6\n"
          ]
        }
      ],
      "source": [
        "print(len(data)) "
      ]
    },
    {
      "cell_type": "code",
      "execution_count": 8,
      "id": "e28859e1",
      "metadata": {
        "colab": {
          "base_uri": "https://localhost:8080/"
        },
        "id": "e28859e1",
        "outputId": "0f06966d-af52-4222-803b-05e090a2147d"
      },
      "outputs": [
        {
          "output_type": "stream",
          "name": "stdout",
          "text": [
            "{'temp': 286, 'feels_like': 285.61, 'pressure': 1013, 'humidity': 87, 'temp_min': 284.05, 'temp_max': 289.1}\n"
          ]
        }
      ],
      "source": [
        "print(data['list'][0]['main'])"
      ]
    }
  ],
  "metadata": {
    "kernelspec": {
      "display_name": "Python 3",
      "language": "python",
      "name": "python3"
    },
    "language_info": {
      "codemirror_mode": {
        "name": "ipython",
        "version": 3
      },
      "file_extension": ".py",
      "mimetype": "text/x-python",
      "name": "python",
      "nbconvert_exporter": "python",
      "pygments_lexer": "ipython3",
      "version": "3.8.8"
    },
    "colab": {
      "name": "Untitled.ipynb",
      "provenance": [],
      "collapsed_sections": []
    }
  },
  "nbformat": 4,
  "nbformat_minor": 5
}